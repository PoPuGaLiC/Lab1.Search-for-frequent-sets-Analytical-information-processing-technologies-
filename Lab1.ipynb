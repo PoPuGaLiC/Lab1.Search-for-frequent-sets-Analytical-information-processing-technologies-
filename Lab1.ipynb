{
  "nbformat": 4,
  "nbformat_minor": 0,
  "metadata": {
    "colab": {
      "name": "Lab1.ipynb",
      "provenance": [],
      "collapsed_sections": []
    },
    "kernelspec": {
      "name": "python3",
      "display_name": "Python 3"
    },
    "language_info": {
      "name": "python"
    }
  },
  "cells": [
    {
      "cell_type": "markdown",
      "source": [
        "# **Импорт библиотек**"
      ],
      "metadata": {
        "id": "wvu7ngcwBlWX"
      }
    },
    {
      "cell_type": "code",
      "execution_count": null,
      "metadata": {
        "colab": {
          "base_uri": "https://localhost:8080/"
        },
        "id": "DxX4IzaI8K5M",
        "outputId": "91698664-b15f-4797-c398-b29b04f7a2d0"
      },
      "outputs": [
        {
          "output_type": "stream",
          "name": "stdout",
          "text": [
            "Collecting apyori\n",
            "  Downloading apyori-1.1.2.tar.gz (8.6 kB)\n",
            "Building wheels for collected packages: apyori\n",
            "  Building wheel for apyori (setup.py) ... \u001b[?25l\u001b[?25hdone\n",
            "  Created wheel for apyori: filename=apyori-1.1.2-py3-none-any.whl size=5974 sha256=2fbe531ed4ede606fef04f3dce40b6bb5a69780c1d5839d0dd8a4353116877b6\n",
            "  Stored in directory: /root/.cache/pip/wheels/cb/f6/e1/57973c631d27efd1a2f375bd6a83b2a616c4021f24aab84080\n",
            "Successfully built apyori\n",
            "Installing collected packages: apyori\n",
            "Successfully installed apyori-1.1.2\n"
          ]
        }
      ],
      "source": [
        "!pip install apyori"
      ]
    },
    {
      "cell_type": "code",
      "source": [
        "import numpy as np  \n",
        "import pandas as pd  \n",
        "from apyori import apriori  \n",
        "import matplotlib.pyplot as plt\n",
        "import time\n",
        "import csv\n",
        "import apyori"
      ],
      "metadata": {
        "id": "ZWFHLmgJ8WG1"
      },
      "execution_count": null,
      "outputs": []
    },
    {
      "cell_type": "code",
      "source": [
        "from google.colab import drive\n",
        "drive.mount('/content/drive')"
      ],
      "metadata": {
        "colab": {
          "base_uri": "https://localhost:8080/"
        },
        "id": "o5sQGL2U-Ndp",
        "outputId": "b37e9905-6e68-4b98-b5a0-b23f7ac58007"
      },
      "execution_count": null,
      "outputs": [
        {
          "output_type": "stream",
          "name": "stdout",
          "text": [
            "Drive already mounted at /content/drive; to attempt to forcibly remount, call drive.mount(\"/content/drive\", force_remount=True).\n"
          ]
        }
      ]
    },
    {
      "cell_type": "markdown",
      "source": [
        "# **Подключение датасетов**"
      ],
      "metadata": {
        "id": "MiIej9f8Bszc"
      }
    },
    {
      "cell_type": "markdown",
      "source": [
        "К сожалению, пришлось установить малые значения датасетов,т.к. иначе дальнейшие процессы идут очень долго. Размеры датасетов всегда можно изменить"
      ],
      "metadata": {
        "id": "xwrSv7k9PC4y"
      }
    },
    {
      "cell_type": "code",
      "source": [
        "with open('/content/drive/MyDrive/OnlineRetail.csv', encoding='windows-1252') as tsvfile:\n",
        "    retail= pd.read_csv(tsvfile, delimiter=',')\n"
      ],
      "metadata": {
        "id": "qUwfcjPiAWMq"
      },
      "execution_count": null,
      "outputs": []
    },
    {
      "cell_type": "code",
      "source": [
        "print(len(retail))\n",
        "retail = retail.head(100)\n",
        "print(len(retail))"
      ],
      "metadata": {
        "colab": {
          "base_uri": "https://localhost:8080/"
        },
        "id": "NSvz1FxG-O2X",
        "outputId": "3df14aa3-13ab-40d5-9090-00f84deab1ed"
      },
      "execution_count": null,
      "outputs": [
        {
          "output_type": "stream",
          "name": "stdout",
          "text": [
            "541909\n",
            "100\n"
          ]
        }
      ]
    },
    {
      "cell_type": "code",
      "source": [
        "with open('/content/drive/MyDrive/US_Accidents_Dec21_updated.csv', encoding='windows-1252') as tsvfile:\n",
        "    accidents= pd.read_csv(tsvfile, delimiter=',')"
      ],
      "metadata": {
        "id": "UGvtwPwU-YGv"
      },
      "execution_count": null,
      "outputs": []
    },
    {
      "cell_type": "code",
      "source": [
        "print(len(accidents))\n",
        "accidents = accidents.head(100)\n",
        "print(len(accidents))"
      ],
      "metadata": {
        "colab": {
          "base_uri": "https://localhost:8080/"
        },
        "id": "vgV5OVvtBMJj",
        "outputId": "f9863782-d660-42ba-e8d1-39bc09c01e3c"
      },
      "execution_count": null,
      "outputs": [
        {
          "output_type": "stream",
          "name": "stdout",
          "text": [
            "2845342\n",
            "100\n"
          ]
        }
      ]
    },
    {
      "cell_type": "markdown",
      "source": [
        "# **Используемые функции**"
      ],
      "metadata": {
        "id": "lwwHqt9IOu5q"
      }
    },
    {
      "cell_type": "markdown",
      "source": [
        "Установка пороговых значений"
      ],
      "metadata": {
        "id": "AOy2PgGCCFec"
      }
    },
    {
      "cell_type": "code",
      "source": [
        "min_supports = [0.003, 0.005, 0.009, 0.01, 0.02]"
      ],
      "metadata": {
        "id": "XCXAR8kTBYH-"
      },
      "execution_count": null,
      "outputs": []
    },
    {
      "cell_type": "markdown",
      "source": [
        "Выполнение поиска частных наборов"
      ],
      "metadata": {
        "id": "Rp4KbRo3Cril"
      }
    },
    {
      "cell_type": "code",
      "source": [
        "def apyori_funct(dataset, min_supports):\n",
        "  result = []\n",
        "  times = []\n",
        "  for i in min_supports:\n",
        "    time_1 = time.time()\n",
        "    result.append(list(apyori.apriori(dataset, min_support = i, min_length = 2, min_confidence = 0.2, min_lift = 2)))\n",
        "    time_2 = time.time()\n",
        "    times.append(time_2 - time_1)\n",
        "  return result, times"
      ],
      "metadata": {
        "id": "TiM0dNaeCVj1"
      },
      "execution_count": null,
      "outputs": []
    },
    {
      "cell_type": "markdown",
      "source": [
        "Преобразование датасета в список"
      ],
      "metadata": {
        "id": "uLmHG9lMOmJa"
      }
    },
    {
      "cell_type": "code",
      "source": [
        "def get_list(data: object) -> list:\n",
        "  data_list = []\n",
        "  for i in range(0, len(data)):\n",
        "    for j in range(0, int(data.size/len(data))):\n",
        "      data_list.append(str(data.values[i,j]).split())\n",
        "\n",
        "  return data_list"
      ],
      "metadata": {
        "id": "5HKjgOgvdjz9"
      },
      "execution_count": null,
      "outputs": []
    },
    {
      "cell_type": "markdown",
      "source": [
        "Вывод результатов"
      ],
      "metadata": {
        "id": "pxkqgHkfC4HM"
      }
    },
    {
      "cell_type": "code",
      "source": [
        "def results(result, min_supports):\n",
        "  for i in range(len(result)):\n",
        "    print(min_supports[i])\n",
        "    print(\"<---->\")\n",
        "    for j in range(len(result[i])):\n",
        "      print(\"{}, {}\".format(result[i][j].items, round(result[i][j].support,4)))\n",
        "    print(\"<---->\")"
      ],
      "metadata": {
        "id": "i-ahj559CtHE"
      },
      "execution_count": null,
      "outputs": []
    },
    {
      "cell_type": "markdown",
      "source": [
        "Построение графика"
      ],
      "metadata": {
        "id": "sHVeXj6IC9hu"
      }
    },
    {
      "cell_type": "code",
      "source": [
        "def chart(result, min_supports, times):\n",
        "  \n",
        "  support = []\n",
        "  for i in min_supports:\n",
        "    support.append(str(i))\n",
        "\n",
        "  quantity = []\n",
        "  for i in range(len(result)):\n",
        "    quantity.append(len(result[i]))\n",
        "\n",
        "  plt.bar(support, times)\n",
        "  plt.xlabel(\"Значение поддержки\")\n",
        "  plt.ylabel(\"Время работы\")\n",
        "  plt.show()\n",
        "\n",
        "  plt.bar(support, quantity)\n",
        "  plt.xlabel(\"Значение поддержки\")\n",
        "  plt.ylabel(\"Количество наборов\")\n",
        "  plt.show()"
      ],
      "metadata": {
        "id": "El4ZoqV6C02M"
      },
      "execution_count": null,
      "outputs": []
    },
    {
      "cell_type": "code",
      "source": [
        "retail_list = get_list(retail)"
      ],
      "metadata": {
        "id": "XpjjlcaXILtG"
      },
      "execution_count": null,
      "outputs": []
    },
    {
      "cell_type": "code",
      "source": [
        "accidents_list = get_list(accidents)"
      ],
      "metadata": {
        "id": "hiyylyhBHcfm"
      },
      "execution_count": null,
      "outputs": []
    },
    {
      "cell_type": "markdown",
      "source": [
        "# **Результаты**"
      ],
      "metadata": {
        "id": "ehEnwaZqO5l9"
      }
    },
    {
      "cell_type": "code",
      "source": [
        "result, times = apyori_funct(accidents_list, min_supports)\n",
        "results(result, min_supports)\n",
        "chart(result, min_supports, times)"
      ],
      "metadata": {
        "colab": {
          "base_uri": "https://localhost:8080/",
          "height": 1000
        },
        "id": "h2WkhMo7DEfe",
        "outputId": "6e6b257f-f06d-4f04-f8f5-bac06b18af63"
      },
      "execution_count": null,
      "outputs": [
        {
          "output_type": "stream",
          "name": "stdout",
          "text": [
            "0.003\n",
            "<---->\n",
            "frozenset({'Accident.', '-'}), 0.0177\n",
            "frozenset({'At', '-'}), 0.0128\n",
            "frozenset({'Between', '-'}), 0.0049\n",
            "frozenset({'Closed', '-'}), 0.0036\n",
            "frozenset({'Rd/Exit', '-'}), 0.0049\n",
            "frozenset({'-', 'Road'}), 0.0036\n",
            "frozenset({'accident.', '-'}), 0.0036\n",
            "frozenset({'and', '-'}), 0.0079\n",
            "frozenset({'closed', '-'}), 0.0036\n",
            "frozenset({'due', '-'}), 0.0036\n",
            "frozenset({'to', '-'}), 0.0036\n",
            "frozenset({'Accident.', 'At'}), 0.0128\n",
            "frozenset({'Accident.', 'Between'}), 0.0049\n",
            "frozenset({'Accident.', 'Rd/Exit'}), 0.004\n",
            "frozenset({'and', 'Accident.'}), 0.0049\n",
            "frozenset({'and', 'Between'}), 0.0049\n",
            "frozenset({'Closed', 'Road'}), 0.0036\n",
            "frozenset({'Closed', 'accident.'}), 0.0036\n",
            "frozenset({'closed', 'Closed'}), 0.0036\n",
            "frozenset({'due', 'Closed'}), 0.0036\n",
            "frozenset({'to', 'Closed'}), 0.0036\n",
            "frozenset({'Snow', 'Light'}), 0.0113\n",
            "frozenset({'accident.', 'Road'}), 0.0036\n",
            "frozenset({'closed', 'Road'}), 0.0036\n",
            "frozenset({'due', 'Road'}), 0.0036\n",
            "frozenset({'to', 'Road'}), 0.0036\n",
            "frozenset({'closed', 'accident.'}), 0.0036\n",
            "frozenset({'due', 'accident.'}), 0.0036\n",
            "frozenset({'to', 'accident.'}), 0.0036\n",
            "frozenset({'closed', 'due'}), 0.0036\n",
            "frozenset({'closed', 'to'}), 0.0036\n",
            "frozenset({'to', 'due'}), 0.0036\n",
            "frozenset({'Accident.', 'At', '-'}), 0.0128\n",
            "frozenset({'Accident.', 'Between', '-'}), 0.0049\n",
            "frozenset({'Accident.', 'Rd/Exit', '-'}), 0.004\n",
            "frozenset({'and', 'Accident.', '-'}), 0.0049\n",
            "frozenset({'and', 'Between', '-'}), 0.0049\n",
            "frozenset({'Closed', '-', 'Road'}), 0.0036\n",
            "frozenset({'accident.', 'Closed', '-'}), 0.0036\n",
            "frozenset({'closed', 'Closed', '-'}), 0.0036\n",
            "frozenset({'due', 'Closed', '-'}), 0.0036\n",
            "frozenset({'to', 'Closed', '-'}), 0.0036\n",
            "frozenset({'accident.', '-', 'Road'}), 0.0036\n",
            "frozenset({'closed', '-', 'Road'}), 0.0036\n",
            "frozenset({'due', '-', 'Road'}), 0.0036\n",
            "frozenset({'to', '-', 'Road'}), 0.0036\n",
            "frozenset({'closed', 'accident.', '-'}), 0.0036\n",
            "frozenset({'accident.', 'due', '-'}), 0.0036\n",
            "frozenset({'accident.', 'to', '-'}), 0.0036\n",
            "frozenset({'closed', 'due', '-'}), 0.0036\n",
            "frozenset({'closed', 'to', '-'}), 0.0036\n",
            "frozenset({'to', 'due', '-'}), 0.0036\n",
            "frozenset({'and', 'Accident.', 'Between'}), 0.0049\n",
            "frozenset({'Closed', 'accident.', 'Road'}), 0.0036\n",
            "frozenset({'closed', 'Closed', 'Road'}), 0.0036\n",
            "frozenset({'due', 'Closed', 'Road'}), 0.0036\n",
            "frozenset({'to', 'Closed', 'Road'}), 0.0036\n",
            "frozenset({'closed', 'Closed', 'accident.'}), 0.0036\n",
            "frozenset({'due', 'Closed', 'accident.'}), 0.0036\n",
            "frozenset({'to', 'Closed', 'accident.'}), 0.0036\n",
            "frozenset({'closed', 'due', 'Closed'}), 0.0036\n",
            "frozenset({'closed', 'to', 'Closed'}), 0.0036\n",
            "frozenset({'to', 'due', 'Closed'}), 0.0036\n",
            "frozenset({'closed', 'accident.', 'Road'}), 0.0036\n",
            "frozenset({'due', 'accident.', 'Road'}), 0.0036\n",
            "frozenset({'to', 'accident.', 'Road'}), 0.0036\n",
            "frozenset({'closed', 'due', 'Road'}), 0.0036\n",
            "frozenset({'closed', 'to', 'Road'}), 0.0036\n",
            "frozenset({'to', 'due', 'Road'}), 0.0036\n",
            "frozenset({'closed', 'due', 'accident.'}), 0.0036\n",
            "frozenset({'closed', 'to', 'accident.'}), 0.0036\n",
            "frozenset({'to', 'due', 'accident.'}), 0.0036\n",
            "frozenset({'closed', 'to', 'due'}), 0.0036\n",
            "frozenset({'and', 'Accident.', 'Between', '-'}), 0.0049\n",
            "frozenset({'accident.', 'Closed', '-', 'Road'}), 0.0036\n",
            "frozenset({'closed', 'Closed', '-', 'Road'}), 0.0036\n",
            "frozenset({'due', 'Closed', '-', 'Road'}), 0.0036\n",
            "frozenset({'to', 'Closed', '-', 'Road'}), 0.0036\n",
            "frozenset({'closed', 'accident.', 'Closed', '-'}), 0.0036\n",
            "frozenset({'accident.', 'due', 'Closed', '-'}), 0.0036\n",
            "frozenset({'accident.', 'to', 'Closed', '-'}), 0.0036\n",
            "frozenset({'closed', 'due', 'Closed', '-'}), 0.0036\n",
            "frozenset({'closed', 'to', 'Closed', '-'}), 0.0036\n",
            "frozenset({'to', 'due', 'Closed', '-'}), 0.0036\n",
            "frozenset({'closed', 'accident.', '-', 'Road'}), 0.0036\n",
            "frozenset({'accident.', 'due', '-', 'Road'}), 0.0036\n",
            "frozenset({'accident.', 'to', '-', 'Road'}), 0.0036\n",
            "frozenset({'closed', 'due', '-', 'Road'}), 0.0036\n",
            "frozenset({'closed', 'to', '-', 'Road'}), 0.0036\n",
            "frozenset({'to', 'due', '-', 'Road'}), 0.0036\n",
            "frozenset({'closed', 'accident.', 'due', '-'}), 0.0036\n",
            "frozenset({'closed', 'accident.', 'to', '-'}), 0.0036\n",
            "frozenset({'accident.', 'to', 'due', '-'}), 0.0036\n",
            "frozenset({'closed', 'to', 'due', '-'}), 0.0036\n",
            "frozenset({'closed', 'Closed', 'accident.', 'Road'}), 0.0036\n",
            "frozenset({'due', 'Closed', 'accident.', 'Road'}), 0.0036\n",
            "frozenset({'to', 'Closed', 'accident.', 'Road'}), 0.0036\n",
            "frozenset({'closed', 'due', 'Closed', 'Road'}), 0.0036\n",
            "frozenset({'closed', 'to', 'Closed', 'Road'}), 0.0036\n",
            "frozenset({'to', 'due', 'Closed', 'Road'}), 0.0036\n",
            "frozenset({'closed', 'due', 'Closed', 'accident.'}), 0.0036\n",
            "frozenset({'closed', 'to', 'Closed', 'accident.'}), 0.0036\n",
            "frozenset({'to', 'due', 'Closed', 'accident.'}), 0.0036\n",
            "frozenset({'closed', 'to', 'due', 'Closed'}), 0.0036\n",
            "frozenset({'closed', 'due', 'accident.', 'Road'}), 0.0036\n",
            "frozenset({'closed', 'to', 'accident.', 'Road'}), 0.0036\n",
            "frozenset({'to', 'due', 'accident.', 'Road'}), 0.0036\n",
            "frozenset({'closed', 'to', 'due', 'Road'}), 0.0036\n",
            "frozenset({'closed', 'to', 'due', 'accident.'}), 0.0036\n",
            "frozenset({'Road', 'closed', 'accident.', 'Closed', '-'}), 0.0036\n",
            "frozenset({'Road', 'accident.', 'due', 'Closed', '-'}), 0.0036\n",
            "frozenset({'Road', 'to', 'accident.', 'Closed', '-'}), 0.0036\n",
            "frozenset({'Road', 'closed', 'due', 'Closed', '-'}), 0.0036\n",
            "frozenset({'Road', 'closed', 'to', 'Closed', '-'}), 0.0036\n",
            "frozenset({'Road', 'to', 'due', 'Closed', '-'}), 0.0036\n",
            "frozenset({'closed', 'accident.', 'due', 'Closed', '-'}), 0.0036\n",
            "frozenset({'closed', 'to', 'accident.', 'Closed', '-'}), 0.0036\n",
            "frozenset({'to', 'accident.', 'due', 'Closed', '-'}), 0.0036\n",
            "frozenset({'closed', 'to', 'due', 'Closed', '-'}), 0.0036\n",
            "frozenset({'Road', 'closed', 'accident.', 'due', '-'}), 0.0036\n",
            "frozenset({'Road', 'closed', 'to', 'accident.', '-'}), 0.0036\n",
            "frozenset({'Road', 'to', 'accident.', 'due', '-'}), 0.0036\n",
            "frozenset({'Road', 'closed', 'to', 'due', '-'}), 0.0036\n",
            "frozenset({'closed', 'to', 'accident.', 'due', '-'}), 0.0036\n",
            "frozenset({'Road', 'closed', 'accident.', 'due', 'Closed'}), 0.0036\n",
            "frozenset({'Road', 'closed', 'to', 'accident.', 'Closed'}), 0.0036\n",
            "frozenset({'Road', 'to', 'accident.', 'due', 'Closed'}), 0.0036\n",
            "frozenset({'Road', 'closed', 'to', 'due', 'Closed'}), 0.0036\n",
            "frozenset({'closed', 'to', 'accident.', 'due', 'Closed'}), 0.0036\n",
            "frozenset({'Road', 'closed', 'to', 'accident.', 'due'}), 0.0036\n",
            "frozenset({'Road', 'closed', 'accident.', 'due', 'Closed', '-'}), 0.0036\n",
            "frozenset({'Road', 'closed', 'to', 'accident.', 'Closed', '-'}), 0.0036\n",
            "frozenset({'Road', 'to', 'accident.', 'due', 'Closed', '-'}), 0.0036\n",
            "frozenset({'Road', 'closed', 'to', 'due', 'Closed', '-'}), 0.0036\n",
            "frozenset({'closed', 'to', 'accident.', 'due', 'Closed', '-'}), 0.0036\n",
            "frozenset({'Road', 'closed', 'to', 'accident.', 'due', '-'}), 0.0036\n",
            "frozenset({'Road', 'closed', 'to', 'accident.', 'due', 'Closed'}), 0.0036\n",
            "frozenset({'Road', 'closed', 'to', 'accident.', 'due', 'Closed', '-'}), 0.0036\n",
            "<---->\n",
            "0.005\n",
            "<---->\n",
            "frozenset({'Accident.', '-'}), 0.0177\n",
            "frozenset({'At', '-'}), 0.0128\n",
            "frozenset({'and', '-'}), 0.0079\n",
            "frozenset({'Accident.', 'At'}), 0.0128\n",
            "frozenset({'Snow', 'Light'}), 0.0113\n",
            "frozenset({'Accident.', 'At', '-'}), 0.0128\n",
            "<---->\n",
            "0.009\n",
            "<---->\n",
            "frozenset({'Accident.', '-'}), 0.0177\n",
            "frozenset({'At', '-'}), 0.0128\n",
            "frozenset({'Accident.', 'At'}), 0.0128\n",
            "frozenset({'Snow', 'Light'}), 0.0113\n",
            "frozenset({'Accident.', 'At', '-'}), 0.0128\n",
            "<---->\n",
            "0.01\n",
            "<---->\n",
            "frozenset({'Accident.', '-'}), 0.0177\n",
            "frozenset({'At', '-'}), 0.0128\n",
            "frozenset({'Accident.', 'At'}), 0.0128\n",
            "frozenset({'Snow', 'Light'}), 0.0113\n",
            "frozenset({'Accident.', 'At', '-'}), 0.0128\n",
            "<---->\n",
            "0.02\n",
            "<---->\n",
            "<---->\n"
          ]
        },
        {
          "output_type": "display_data",
          "data": {
            "text/plain": [
              "<Figure size 432x288 with 1 Axes>"
            ],
            "image/png": "[encoded data removed]"
          },
          "metadata": {
            "needs_background": "light"
          }
        },
        {
          "output_type": "display_data",
          "data": {
            "text/plain": [
              "<Figure size 432x288 with 1 Axes>"
            ],
            "image/png": "[encoded data removed]"
          },
          "metadata": {
            "needs_background": "light"
          }
        }
      ]
    },
    {
      "cell_type": "code",
      "source": [
        "result, times = apyori_funct(retail_list, min_supports)\n",
        "results(result, min_supports)\n",
        "chart(result, min_supports, times)"
      ],
      "metadata": {
        "colab": {
          "base_uri": "https://localhost:8080/",
          "height": 1000
        },
        "id": "_8q1ZOrILOw9",
        "outputId": "0189928a-1f7a-43ef-9ac3-ba0d7dcd6551"
      },
      "execution_count": null,
      "outputs": [
        {
          "output_type": "stream",
          "name": "stdout",
          "text": [
            "0.003\n",
            "<---->\n",
            "frozenset({'12/1/2010', '8:26'}), 0.0088\n",
            "frozenset({'8:34', '12/1/2010'}), 0.02\n",
            "frozenset({'12/1/2010', '8:45'}), 0.025\n",
            "frozenset({'9:02', '12/1/2010'}), 0.02\n",
            "frozenset({'9:32', '12/1/2010'}), 0.0225\n",
            "frozenset({'12/1/2010', '9:37'}), 0.0175\n",
            "frozenset({'60', 'CAKE'}), 0.0037\n",
            "frozenset({'60', 'CASES'}), 0.0037\n",
            "frozenset({'BABUSHKA', '7'}), 0.0037\n",
            "frozenset({'7', 'BOXES'}), 0.0037\n",
            "frozenset({'NESTING', '7'}), 0.0037\n",
            "frozenset({'7', 'SET'}), 0.0037\n",
            "frozenset({'ALARM', 'BAKELIKE'}), 0.0037\n",
            "frozenset({'ALARM', 'CLOCK'}), 0.0037\n",
            "frozenset({'BABUSHKA', 'BOXES'}), 0.0037\n",
            "frozenset({'NESTING', 'BABUSHKA'}), 0.0037\n",
            "frozenset({'BABUSHKA', 'SET'}), 0.0037\n",
            "frozenset({'JUMBO', 'BAG'}), 0.0037\n",
            "frozenset({'CLOCK', 'BAKELIKE'}), 0.0037\n",
            "frozenset({'BILLBOARD', 'MUG'}), 0.005\n",
            "frozenset({'BILLBOARD', 'VINTAGE'}), 0.005\n",
            "frozenset({'BLOCK', 'BUILDING'}), 0.0037\n",
            "frozenset({'BLOCK', 'WORD'}), 0.0037\n",
            "frozenset({'FLAG', 'BOTTLE'}), 0.0037\n",
            "frozenset({'HOT', 'BOTTLE'}), 0.005\n",
            "frozenset({'BOTTLE', 'KNITTED'}), 0.0037\n",
            "frozenset({'UNION', 'BOTTLE'}), 0.0037\n",
            "frozenset({'WATER', 'BOTTLE'}), 0.005\n",
            "frozenset({'LUNCH', 'BOX'}), 0.0063\n",
            "frozenset({'BOX', 'OF'}), 0.0037\n",
            "frozenset({'BOX', 'WITH'}), 0.0037\n",
            "frozenset({'NESTING', 'BOXES'}), 0.0037\n",
            "frozenset({'SET', 'BOXES'}), 0.005\n",
            "frozenset({'BUILDING', 'WORD'}), 0.0037\n",
            "frozenset({'CABINET', 'FINISH'}), 0.005\n",
            "frozenset({'CABINET', 'WHITE'}), 0.005\n",
            "frozenset({'CABINET', 'WOOD'}), 0.005\n",
            "frozenset({'CAKE', 'CASES'}), 0.005\n",
            "frozenset({'CAKE', 'OF'}), 0.0037\n",
            "frozenset({'CAKE', 'PACK'}), 0.0037\n",
            "frozenset({'OF', 'CASES'}), 0.0037\n",
            "frozenset({'PACK', 'CASES'}), 0.0037\n",
            "frozenset({'CREAM', 'COAT'}), 0.0037\n",
            "frozenset({'COAT', 'CUPID'}), 0.0037\n",
            "frozenset({'FASHION', 'COAT'}), 0.0037\n",
            "frozenset({'COAT', 'HANGER'}), 0.0037\n",
            "frozenset({'COAT', 'HEARTS'}), 0.0037\n",
            "frozenset({'COAT', 'PARIS'}), 0.0037\n",
            "frozenset({'COAT', 'RACK'}), 0.0037\n",
            "frozenset({'CREAM', 'CUPID'}), 0.0037\n",
            "frozenset({'CREAM', 'HANGER'}), 0.0037\n",
            "frozenset({'CREAM', 'HEARTS'}), 0.0037\n",
            "frozenset({'CUPID', 'HANGER'}), 0.0037\n",
            "frozenset({'CUPID', 'HEARTS'}), 0.0037\n",
            "frozenset({'DOT', 'HAND'}), 0.0037\n",
            "frozenset({'POLKA', 'DOT'}), 0.0037\n",
            "frozenset({'DOT', 'RED'}), 0.0037\n",
            "frozenset({'WARMER', 'DOT'}), 0.0037\n",
            "frozenset({'FASHION', 'PARIS'}), 0.0037\n",
            "frozenset({'FASHION', 'RACK'}), 0.0037\n",
            "frozenset({'WHITE', 'FINISH'}), 0.0075\n",
            "frozenset({'WOOD', 'FINISH'}), 0.005\n",
            "frozenset({'FLAG', 'HOT'}), 0.0037\n",
            "frozenset({'FLAG', 'KNITTED'}), 0.0037\n",
            "frozenset({'FLAG', 'UNION'}), 0.0037\n",
            "frozenset({'FLAG', 'WATER'}), 0.0037\n",
            "frozenset({'WHITE', 'FRAME'}), 0.005\n",
            "frozenset({'WOODEN', 'FRAME'}), 0.005\n",
            "frozenset({'FROSTED', 'GLASS'}), 0.0037\n",
            "frozenset({'FROSTED', 'HOLDER'}), 0.0037\n",
            "frozenset({'FROSTED', 'STAR'}), 0.0037\n",
            "frozenset({'FROSTED', 'T-LIGHT'}), 0.0037\n",
            "frozenset({'HOLDER', 'GLASS'}), 0.0037\n",
            "frozenset({'STAR', 'GLASS'}), 0.0037\n",
            "frozenset({'T-LIGHT', 'GLASS'}), 0.0037\n",
            "frozenset({'JACK', 'HAND'}), 0.0037\n",
            "frozenset({'POLKA', 'HAND'}), 0.0037\n",
            "frozenset({'HAND', 'RED'}), 0.0037\n",
            "frozenset({'UNION', 'HAND'}), 0.0037\n",
            "frozenset({'WARMER', 'HAND'}), 0.0075\n",
            "frozenset({'HANGER', 'HEARTS'}), 0.0037\n",
            "frozenset({'HANGING', 'HEART'}), 0.005\n",
            "frozenset({'HANGING', 'HOLDER'}), 0.005\n",
            "frozenset({'HANGING', 'T-LIGHT'}), 0.005\n",
            "frozenset({'HANGING', 'WHITE'}), 0.0037\n",
            "frozenset({'HOLDER', 'HEART'}), 0.005\n",
            "frozenset({'T-LIGHT', 'HEART'}), 0.005\n",
            "frozenset({'HEART', 'WHITE'}), 0.0037\n",
            "frozenset({'HOTTIE', 'HEART.'}), 0.0037\n",
            "frozenset({'HEART.', 'RED'}), 0.0037\n",
            "frozenset({'HEART.', 'WHITE'}), 0.0037\n",
            "frozenset({'HEART.', 'WOOLLY'}), 0.0037\n",
            "frozenset({'HOLDER', 'STAR'}), 0.0037\n",
            "frozenset({'HOLDER', 'T-LIGHT'}), 0.0088\n",
            "frozenset({'HOLDER', 'WHITE'}), 0.0037\n",
            "frozenset({'HOT', 'KNITTED'}), 0.0037\n",
            "frozenset({'UNION', 'HOT'}), 0.0037\n",
            "frozenset({'WATER', 'HOT'}), 0.005\n",
            "frozenset({'HOTTIE', 'RED'}), 0.0037\n",
            "frozenset({'HOTTIE', 'WHITE'}), 0.0037\n",
            "frozenset({'HOTTIE', 'WOOLLY'}), 0.0037\n",
            "frozenset({'UNION', 'JACK'}), 0.0037\n",
            "frozenset({'WARMER', 'JACK'}), 0.0037\n",
            "frozenset({'UNION', 'KNITTED'}), 0.0037\n",
            "frozenset({'WATER', 'KNITTED'}), 0.0037\n",
            "frozenset({'Kingdom', 'United'}), 0.1\n",
            "frozenset({'LANTERN', 'METAL'}), 0.0037\n",
            "frozenset({'LANTERN', 'WHITE'}), 0.0037\n",
            "frozenset({'WHITE', 'METAL'}), 0.0037\n",
            "frozenset({'VINTAGE', 'MUG'}), 0.005\n",
            "frozenset({'NESTING', 'SET'}), 0.0037\n",
            "frozenset({'OF', 'PACK'}), 0.0037\n",
            "frozenset({'PARIS', 'RACK'}), 0.0037\n",
            "frozenset({'POLKA', 'RED'}), 0.0037\n",
            "frozenset({'WARMER', 'POLKA'}), 0.0037\n",
            "frozenset({'RETROSPOT', 'RED'}), 0.0037\n",
            "frozenset({'WARMER', 'RED'}), 0.0037\n",
            "frozenset({'WOOLLY', 'RED'}), 0.0037\n",
            "frozenset({'STAR', 'T-LIGHT'}), 0.0037\n",
            "frozenset({'T-LIGHT', 'WHITE'}), 0.0037\n",
            "frozenset({'UNION', 'WARMER'}), 0.0037\n",
            "frozenset({'UNION', 'WATER'}), 0.0037\n",
            "frozenset({'WOOD', 'WHITE'}), 0.005\n",
            "frozenset({'WOODEN', 'WHITE'}), 0.005\n",
            "frozenset({'WHITE', 'WOOLLY'}), 0.0037\n",
            "frozenset({'60', 'CAKE', 'CASES'}), 0.0037\n",
            "frozenset({'BABUSHKA', '7', 'BOXES'}), 0.0037\n",
            "frozenset({'NESTING', 'BABUSHKA', '7'}), 0.0037\n",
            "frozenset({'BABUSHKA', '7', 'SET'}), 0.0037\n",
            "frozenset({'NESTING', '7', 'BOXES'}), 0.0037\n",
            "frozenset({'7', 'SET', 'BOXES'}), 0.0037\n",
            "frozenset({'NESTING', '7', 'SET'}), 0.0037\n",
            "frozenset({'ALARM', 'BAKELIKE', 'CLOCK'}), 0.0037\n",
            "frozenset({'NESTING', 'BABUSHKA', 'BOXES'}), 0.0037\n",
            "frozenset({'BABUSHKA', 'SET', 'BOXES'}), 0.0037\n",
            "frozenset({'NESTING', 'BABUSHKA', 'SET'}), 0.0037\n",
            "frozenset({'BILLBOARD', 'VINTAGE', 'MUG'}), 0.005\n",
            "frozenset({'BLOCK', 'BUILDING', 'WORD'}), 0.0037\n",
            "frozenset({'FLAG', 'HOT', 'BOTTLE'}), 0.0037\n",
            "frozenset({'FLAG', 'BOTTLE', 'KNITTED'}), 0.0037\n",
            "frozenset({'FLAG', 'UNION', 'BOTTLE'}), 0.0037\n",
            "frozenset({'FLAG', 'WATER', 'BOTTLE'}), 0.0037\n",
            "frozenset({'HOT', 'BOTTLE', 'KNITTED'}), 0.0037\n",
            "frozenset({'UNION', 'HOT', 'BOTTLE'}), 0.0037\n",
            "frozenset({'WATER', 'HOT', 'BOTTLE'}), 0.005\n",
            "frozenset({'UNION', 'BOTTLE', 'KNITTED'}), 0.0037\n",
            "frozenset({'WATER', 'BOTTLE', 'KNITTED'}), 0.0037\n",
            "frozenset({'UNION', 'WATER', 'BOTTLE'}), 0.0037\n",
            "frozenset({'NESTING', 'SET', 'BOXES'}), 0.0037\n",
            "frozenset({'CABINET', 'WHITE', 'FINISH'}), 0.005\n",
            "frozenset({'CABINET', 'WOOD', 'FINISH'}), 0.005\n",
            "frozenset({'CABINET', 'WOOD', 'WHITE'}), 0.005\n",
            "frozenset({'CAKE', 'OF', 'CASES'}), 0.0037\n",
            "frozenset({'CAKE', 'PACK', 'CASES'}), 0.0037\n",
            "frozenset({'CAKE', 'PACK', 'OF'}), 0.0037\n",
            "frozenset({'OF', 'PACK', 'CASES'}), 0.0037\n",
            "frozenset({'CREAM', 'COAT', 'CUPID'}), 0.0037\n",
            "frozenset({'CREAM', 'COAT', 'HANGER'}), 0.0037\n",
            "frozenset({'CREAM', 'COAT', 'HEARTS'}), 0.0037\n",
            "frozenset({'HANGER', 'COAT', 'CUPID'}), 0.0037\n",
            "frozenset({'COAT', 'CUPID', 'HEARTS'}), 0.0037\n",
            "frozenset({'FASHION', 'COAT', 'PARIS'}), 0.0037\n",
            "frozenset({'FASHION', 'COAT', 'RACK'}), 0.0037\n",
            "frozenset({'COAT', 'HANGER', 'HEARTS'}), 0.0037\n",
            "frozenset({'COAT', 'PARIS', 'RACK'}), 0.0037\n",
            "frozenset({'CREAM', 'CUPID', 'HANGER'}), 0.0037\n",
            "frozenset({'CREAM', 'CUPID', 'HEARTS'}), 0.0037\n",
            "frozenset({'CREAM', 'HANGER', 'HEARTS'}), 0.0037\n",
            "frozenset({'CUPID', 'HANGER', 'HEARTS'}), 0.0037\n",
            "frozenset({'POLKA', 'DOT', 'HAND'}), 0.0037\n",
            "frozenset({'RED', 'DOT', 'HAND'}), 0.0037\n",
            "frozenset({'WARMER', 'DOT', 'HAND'}), 0.0037\n",
            "frozenset({'POLKA', 'DOT', 'RED'}), 0.0037\n",
            "frozenset({'POLKA', 'WARMER', 'DOT'}), 0.0037\n",
            "frozenset({'WARMER', 'DOT', 'RED'}), 0.0037\n",
            "frozenset({'FASHION', 'PARIS', 'RACK'}), 0.0037\n",
            "frozenset({'WOOD', 'WHITE', 'FINISH'}), 0.005\n",
            "frozenset({'FLAG', 'HOT', 'KNITTED'}), 0.0037\n",
            "frozenset({'FLAG', 'UNION', 'HOT'}), 0.0037\n",
            "frozenset({'FLAG', 'WATER', 'HOT'}), 0.0037\n",
            "frozenset({'FLAG', 'UNION', 'KNITTED'}), 0.0037\n",
            "frozenset({'FLAG', 'WATER', 'KNITTED'}), 0.0037\n",
            "frozenset({'FLAG', 'WATER', 'UNION'}), 0.0037\n",
            "frozenset({'WOODEN', 'WHITE', 'FRAME'}), 0.005\n",
            "frozenset({'FROSTED', 'GLASS', 'HOLDER'}), 0.0037\n",
            "frozenset({'FROSTED', 'GLASS', 'STAR'}), 0.0037\n",
            "frozenset({'FROSTED', 'GLASS', 'T-LIGHT'}), 0.0037\n",
            "frozenset({'FROSTED', 'STAR', 'HOLDER'}), 0.0037\n",
            "frozenset({'FROSTED', 'T-LIGHT', 'HOLDER'}), 0.0037\n",
            "frozenset({'FROSTED', 'STAR', 'T-LIGHT'}), 0.0037\n",
            "frozenset({'HOLDER', 'GLASS', 'STAR'}), 0.0037\n",
            "frozenset({'HOLDER', 'GLASS', 'T-LIGHT'}), 0.0037\n",
            "frozenset({'STAR', 'GLASS', 'T-LIGHT'}), 0.0037\n",
            "frozenset({'UNION', 'JACK', 'HAND'}), 0.0037\n",
            "frozenset({'WARMER', 'JACK', 'HAND'}), 0.0037\n",
            "frozenset({'POLKA', 'HAND', 'RED'}), 0.0037\n",
            "frozenset({'POLKA', 'WARMER', 'HAND'}), 0.0037\n",
            "frozenset({'WARMER', 'HAND', 'RED'}), 0.0037\n",
            "frozenset({'UNION', 'WARMER', 'HAND'}), 0.0037\n",
            "frozenset({'HANGING', 'HOLDER', 'HEART'}), 0.005\n",
            "frozenset({'HANGING', 'T-LIGHT', 'HEART'}), 0.005\n",
            "frozenset({'HANGING', 'HEART', 'WHITE'}), 0.0037\n",
            "frozenset({'HANGING', 'HOLDER', 'T-LIGHT'}), 0.005\n",
            "frozenset({'HANGING', 'HOLDER', 'WHITE'}), 0.0037\n",
            "frozenset({'HANGING', 'T-LIGHT', 'WHITE'}), 0.0037\n",
            "frozenset({'HOLDER', 'HEART', 'T-LIGHT'}), 0.005\n",
            "frozenset({'HOLDER', 'HEART', 'WHITE'}), 0.0037\n",
            "frozenset({'T-LIGHT', 'HEART', 'WHITE'}), 0.0037\n",
            "frozenset({'HOTTIE', 'HEART.', 'RED'}), 0.0037\n",
            "frozenset({'HOTTIE', 'HEART.', 'WHITE'}), 0.0037\n",
            "frozenset({'HOTTIE', 'HEART.', 'WOOLLY'}), 0.0037\n",
            "frozenset({'HEART.', 'WHITE', 'RED'}), 0.0037\n",
            "frozenset({'WOOLLY', 'HEART.', 'RED'}), 0.0037\n",
            "frozenset({'HEART.', 'WHITE', 'WOOLLY'}), 0.0037\n",
            "frozenset({'HOLDER', 'STAR', 'T-LIGHT'}), 0.0037\n",
            "frozenset({'HOLDER', 'T-LIGHT', 'WHITE'}), 0.0037\n",
            "frozenset({'UNION', 'HOT', 'KNITTED'}), 0.0037\n",
            "frozenset({'WATER', 'HOT', 'KNITTED'}), 0.0037\n",
            "frozenset({'UNION', 'WATER', 'HOT'}), 0.0037\n",
            "frozenset({'HOTTIE', 'WHITE', 'RED'}), 0.0037\n",
            "frozenset({'HOTTIE', 'WOOLLY', 'RED'}), 0.0037\n",
            "frozenset({'HOTTIE', 'WHITE', 'WOOLLY'}), 0.0037\n",
            "frozenset({'UNION', 'JACK', 'WARMER'}), 0.0037\n",
            "frozenset({'UNION', 'WATER', 'KNITTED'}), 0.0037\n",
            "frozenset({'LANTERN', 'WHITE', 'METAL'}), 0.0037\n",
            "frozenset({'WARMER', 'POLKA', 'RED'}), 0.0037\n",
            "frozenset({'WOOLLY', 'WHITE', 'RED'}), 0.0037\n",
            "frozenset({'NESTING', 'BABUSHKA', '7', 'BOXES'}), 0.0037\n",
            "frozenset({'BABUSHKA', '7', 'SET', 'BOXES'}), 0.0037\n",
            "frozenset({'NESTING', 'BABUSHKA', '7', 'SET'}), 0.0037\n",
            "frozenset({'NESTING', '7', 'SET', 'BOXES'}), 0.0037\n",
            "frozenset({'NESTING', 'BABUSHKA', 'SET', 'BOXES'}), 0.0037\n",
            "frozenset({'FLAG', 'HOT', 'BOTTLE', 'KNITTED'}), 0.0037\n",
            "frozenset({'FLAG', 'UNION', 'HOT', 'BOTTLE'}), 0.0037\n",
            "frozenset({'FLAG', 'WATER', 'HOT', 'BOTTLE'}), 0.0037\n",
            "frozenset({'FLAG', 'UNION', 'BOTTLE', 'KNITTED'}), 0.0037\n",
            "frozenset({'FLAG', 'WATER', 'BOTTLE', 'KNITTED'}), 0.0037\n",
            "frozenset({'FLAG', 'WATER', 'UNION', 'BOTTLE'}), 0.0037\n",
            "frozenset({'UNION', 'HOT', 'BOTTLE', 'KNITTED'}), 0.0037\n",
            "frozenset({'WATER', 'HOT', 'BOTTLE', 'KNITTED'}), 0.0037\n",
            "frozenset({'UNION', 'WATER', 'HOT', 'BOTTLE'}), 0.0037\n",
            "frozenset({'UNION', 'WATER', 'BOTTLE', 'KNITTED'}), 0.0037\n",
            "frozenset({'CABINET', 'WOOD', 'WHITE', 'FINISH'}), 0.005\n",
            "frozenset({'CAKE', 'PACK', 'OF', 'CASES'}), 0.0037\n",
            "frozenset({'HANGER', 'CREAM', 'COAT', 'CUPID'}), 0.0037\n",
            "frozenset({'CREAM', 'COAT', 'CUPID', 'HEARTS'}), 0.0037\n",
            "frozenset({'CREAM', 'COAT', 'HANGER', 'HEARTS'}), 0.0037\n",
            "frozenset({'HANGER', 'COAT', 'CUPID', 'HEARTS'}), 0.0037\n",
            "frozenset({'FASHION', 'COAT', 'PARIS', 'RACK'}), 0.0037\n",
            "frozenset({'CREAM', 'CUPID', 'HANGER', 'HEARTS'}), 0.0037\n",
            "frozenset({'POLKA', 'RED', 'DOT', 'HAND'}), 0.0037\n",
            "frozenset({'POLKA', 'WARMER', 'DOT', 'HAND'}), 0.0037\n",
            "frozenset({'WARMER', 'RED', 'DOT', 'HAND'}), 0.0037\n",
            "frozenset({'POLKA', 'WARMER', 'DOT', 'RED'}), 0.0037\n",
            "frozenset({'FLAG', 'UNION', 'HOT', 'KNITTED'}), 0.0037\n",
            "frozenset({'FLAG', 'WATER', 'HOT', 'KNITTED'}), 0.0037\n",
            "frozenset({'FLAG', 'UNION', 'HOT', 'WATER'}), 0.0037\n",
            "frozenset({'FLAG', 'WATER', 'UNION', 'KNITTED'}), 0.0037\n",
            "frozenset({'FROSTED', 'GLASS', 'STAR', 'HOLDER'}), 0.0037\n",
            "frozenset({'FROSTED', 'GLASS', 'T-LIGHT', 'HOLDER'}), 0.0037\n",
            "frozenset({'FROSTED', 'GLASS', 'STAR', 'T-LIGHT'}), 0.0037\n",
            "frozenset({'FROSTED', 'STAR', 'HOLDER', 'T-LIGHT'}), 0.0037\n",
            "frozenset({'HOLDER', 'GLASS', 'STAR', 'T-LIGHT'}), 0.0037\n",
            "frozenset({'UNION', 'JACK', 'WARMER', 'HAND'}), 0.0037\n",
            "frozenset({'POLKA', 'WARMER', 'HAND', 'RED'}), 0.0037\n",
            "frozenset({'HANGING', 'HOLDER', 'HEART', 'T-LIGHT'}), 0.005\n",
            "frozenset({'HANGING', 'HOLDER', 'HEART', 'WHITE'}), 0.0037\n",
            "frozenset({'HANGING', 'T-LIGHT', 'HEART', 'WHITE'}), 0.0037\n",
            "frozenset({'HANGING', 'HOLDER', 'T-LIGHT', 'WHITE'}), 0.0037\n",
            "frozenset({'HOLDER', 'HEART', 'T-LIGHT', 'WHITE'}), 0.0037\n",
            "frozenset({'HOTTIE', 'HEART.', 'WHITE', 'RED'}), 0.0037\n",
            "frozenset({'HOTTIE', 'HEART.', 'WOOLLY', 'RED'}), 0.0037\n",
            "frozenset({'HOTTIE', 'HEART.', 'WHITE', 'WOOLLY'}), 0.0037\n",
            "frozenset({'WOOLLY', 'HEART.', 'WHITE', 'RED'}), 0.0037\n",
            "frozenset({'UNION', 'WATER', 'HOT', 'KNITTED'}), 0.0037\n",
            "frozenset({'HOTTIE', 'WOOLLY', 'WHITE', 'RED'}), 0.0037\n",
            "frozenset({'SET', '7', 'NESTING', 'BABUSHKA', 'BOXES'}), 0.0037\n",
            "frozenset({'UNION', 'HOT', 'BOTTLE', 'KNITTED', 'FLAG'}), 0.0037\n",
            "frozenset({'WATER', 'HOT', 'BOTTLE', 'KNITTED', 'FLAG'}), 0.0037\n",
            "frozenset({'UNION', 'WATER', 'HOT', 'BOTTLE', 'FLAG'}), 0.0037\n",
            "frozenset({'UNION', 'WATER', 'BOTTLE', 'KNITTED', 'FLAG'}), 0.0037\n",
            "frozenset({'UNION', 'WATER', 'HOT', 'BOTTLE', 'KNITTED'}), 0.0037\n",
            "frozenset({'CREAM', 'HANGER', 'HEARTS', 'CUPID', 'COAT'}), 0.0037\n",
            "frozenset({'DOT', 'WARMER', 'RED', 'HAND', 'POLKA'}), 0.0037\n",
            "frozenset({'UNION', 'WATER', 'HOT', 'KNITTED', 'FLAG'}), 0.0037\n",
            "frozenset({'FROSTED', 'GLASS', 'STAR', 'T-LIGHT', 'HOLDER'}), 0.0037\n",
            "frozenset({'HANGING', 'T-LIGHT', 'HEART', 'HOLDER', 'WHITE'}), 0.0037\n",
            "frozenset({'HOTTIE', 'HEART.', 'WHITE', 'RED', 'WOOLLY'}), 0.0037\n",
            "frozenset({'UNION', 'WATER', 'HOT', 'BOTTLE', 'KNITTED', 'FLAG'}), 0.0037\n",
            "<---->\n",
            "0.005\n",
            "<---->\n",
            "frozenset({'12/1/2010', '8:26'}), 0.0088\n",
            "frozenset({'8:34', '12/1/2010'}), 0.02\n",
            "frozenset({'12/1/2010', '8:45'}), 0.025\n",
            "frozenset({'9:02', '12/1/2010'}), 0.02\n",
            "frozenset({'9:32', '12/1/2010'}), 0.0225\n",
            "frozenset({'12/1/2010', '9:37'}), 0.0175\n",
            "frozenset({'BILLBOARD', 'MUG'}), 0.005\n",
            "frozenset({'BILLBOARD', 'VINTAGE'}), 0.005\n",
            "frozenset({'HOT', 'BOTTLE'}), 0.005\n",
            "frozenset({'WATER', 'BOTTLE'}), 0.005\n",
            "frozenset({'LUNCH', 'BOX'}), 0.0063\n",
            "frozenset({'SET', 'BOXES'}), 0.005\n",
            "frozenset({'CABINET', 'FINISH'}), 0.005\n",
            "frozenset({'CABINET', 'WHITE'}), 0.005\n",
            "frozenset({'CABINET', 'WOOD'}), 0.005\n",
            "frozenset({'CAKE', 'CASES'}), 0.005\n",
            "frozenset({'WHITE', 'FINISH'}), 0.0075\n",
            "frozenset({'WOOD', 'FINISH'}), 0.005\n",
            "frozenset({'WHITE', 'FRAME'}), 0.005\n",
            "frozenset({'WOODEN', 'FRAME'}), 0.005\n",
            "frozenset({'WARMER', 'HAND'}), 0.0075\n",
            "frozenset({'HANGING', 'HEART'}), 0.005\n",
            "frozenset({'HANGING', 'HOLDER'}), 0.005\n",
            "frozenset({'HANGING', 'T-LIGHT'}), 0.005\n",
            "frozenset({'HOLDER', 'HEART'}), 0.005\n",
            "frozenset({'T-LIGHT', 'HEART'}), 0.005\n",
            "frozenset({'HOLDER', 'T-LIGHT'}), 0.0088\n",
            "frozenset({'WATER', 'HOT'}), 0.005\n",
            "frozenset({'Kingdom', 'United'}), 0.1\n",
            "frozenset({'VINTAGE', 'MUG'}), 0.005\n",
            "frozenset({'WOOD', 'WHITE'}), 0.005\n",
            "frozenset({'WOODEN', 'WHITE'}), 0.005\n",
            "frozenset({'BILLBOARD', 'VINTAGE', 'MUG'}), 0.005\n",
            "frozenset({'WATER', 'HOT', 'BOTTLE'}), 0.005\n",
            "frozenset({'CABINET', 'WHITE', 'FINISH'}), 0.005\n",
            "frozenset({'CABINET', 'WOOD', 'FINISH'}), 0.005\n",
            "frozenset({'CABINET', 'WOOD', 'WHITE'}), 0.005\n",
            "frozenset({'WOOD', 'WHITE', 'FINISH'}), 0.005\n",
            "frozenset({'WOODEN', 'WHITE', 'FRAME'}), 0.005\n",
            "frozenset({'HANGING', 'HOLDER', 'HEART'}), 0.005\n",
            "frozenset({'HANGING', 'T-LIGHT', 'HEART'}), 0.005\n",
            "frozenset({'HANGING', 'HOLDER', 'T-LIGHT'}), 0.005\n",
            "frozenset({'HOLDER', 'HEART', 'T-LIGHT'}), 0.005\n",
            "frozenset({'CABINET', 'WOOD', 'WHITE', 'FINISH'}), 0.005\n",
            "frozenset({'HANGING', 'HOLDER', 'HEART', 'T-LIGHT'}), 0.005\n",
            "<---->\n",
            "0.009\n",
            "<---->\n",
            "frozenset({'8:34', '12/1/2010'}), 0.02\n",
            "frozenset({'12/1/2010', '8:45'}), 0.025\n",
            "frozenset({'9:02', '12/1/2010'}), 0.02\n",
            "frozenset({'9:32', '12/1/2010'}), 0.0225\n",
            "frozenset({'12/1/2010', '9:37'}), 0.0175\n",
            "frozenset({'Kingdom', 'United'}), 0.1\n",
            "<---->\n",
            "0.01\n",
            "<---->\n",
            "frozenset({'8:34', '12/1/2010'}), 0.02\n",
            "frozenset({'12/1/2010', '8:45'}), 0.025\n",
            "frozenset({'9:02', '12/1/2010'}), 0.02\n",
            "frozenset({'9:32', '12/1/2010'}), 0.0225\n",
            "frozenset({'12/1/2010', '9:37'}), 0.0175\n",
            "frozenset({'Kingdom', 'United'}), 0.1\n",
            "<---->\n",
            "0.02\n",
            "<---->\n",
            "frozenset({'8:34', '12/1/2010'}), 0.02\n",
            "frozenset({'12/1/2010', '8:45'}), 0.025\n",
            "frozenset({'9:02', '12/1/2010'}), 0.02\n",
            "frozenset({'9:32', '12/1/2010'}), 0.0225\n",
            "frozenset({'Kingdom', 'United'}), 0.1\n",
            "<---->\n"
          ]
        },
        {
          "output_type": "display_data",
          "data": {
            "text/plain": [
              "<Figure size 432x288 with 1 Axes>"
            ],
            "image/png": "[encoded data removed]"
          },
          "metadata": {
            "needs_background": "light"
          }
        },
        {
          "output_type": "display_data",
          "data": {
            "text/plain": [
              "<Figure size 432x288 with 1 Axes>"
            ],
            "image/png": "[encoded data removed]"
          },
          "metadata": {
            "needs_background": "light"
          }
        }
      ]
    }
  ]
}